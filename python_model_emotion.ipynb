{
 "cells": [
  {
   "cell_type": "markdown",
   "metadata": {},
   "source": [
    "# This is a deep leaning model which can detect emotions"
   ]
  },
  {
   "cell_type": "code",
   "execution_count": 37,
   "metadata": {},
   "outputs": [],
   "source": [
    "# importing lab which we will use\n",
    "import numpy as np\n",
    "from __future__ import print_function\n",
    "import keras\n",
    "from keras.preprocessing.image import ImageDataGenerator\n",
    "from keras.models import Sequential\n",
    "from keras.layers import Dense,Dropout,Activation,Flatten,BatchNormalization\n",
    "from keras.layers import Conv2D,MaxPooling2D\n",
    "import os\n"
   ]
  },
  {
   "cell_type": "code",
   "execution_count": 38,
   "metadata": {},
   "outputs": [],
   "source": [
    "num_classes = 7 # this is the no no class like happy suprise angry etc\n",
    "img_rows,img_cols = 48,48 # this is the dim of row and columns\n",
    "batch_size = 32 # this is the batch size\n"
   ]
  },
  {
   "cell_type": "code",
   "execution_count": 39,
   "metadata": {},
   "outputs": [],
   "source": [
    "train_dir = 'C:\\\\Users\\\\Moosa\\\\Desktop\\\\cnn\\\\train' # this is the train folder of my computer plz use your own file path\n",
    "validation_dir = 'C:\\\\Users\\\\Moosa\\\\Desktop\\\\cnn\\\\validation'# same hear use your own file path where you have stored the data"
   ]
  },
  {
   "cell_type": "code",
   "execution_count": 40,
   "metadata": {},
   "outputs": [],
   "source": [
    "# we are genrating new images \n",
    "train_datagen = ImageDataGenerator(rescale=1./255,rotation_range=30,\n",
    "                                   shear_range=0.3,zoom_range=0.3,\n",
    "                                   width_shift_range=0.4,\n",
    "                                   height_shift_range=0.4,\n",
    "                                   horizontal_flip=True,\n",
    "                                   fill_mode='nearest')\n"
   ]
  },
  {
   "cell_type": "code",
   "execution_count": 41,
   "metadata": {},
   "outputs": [],
   "source": [
    "# we are resaling the images in val dataset\n",
    "validation_datagen = ImageDataGenerator(rescale=1./255)"
   ]
  },
  {
   "cell_type": "code",
   "execution_count": 42,
   "metadata": {},
   "outputs": [
    {
     "name": "stdout",
     "output_type": "stream",
     "text": [
      "Found 28789 images belonging to 7 classes.\n"
     ]
    }
   ],
   "source": [
    "# genrating images\n",
    "train_generator = train_datagen.flow_from_directory(train_dir,color_mode='grayscale'\n",
    "                                                    ,target_size=(img_rows,img_cols)\n",
    "                                                    ,batch_size=batch_size\n",
    "                                                    ,class_mode='categorical'\n",
    "                                                    ,shuffle=True)"
   ]
  },
  {
   "cell_type": "code",
   "execution_count": 43,
   "metadata": {},
   "outputs": [
    {
     "name": "stdout",
     "output_type": "stream",
     "text": [
      "Found 3589 images belonging to 7 classes.\n"
     ]
    }
   ],
   "source": [
    "# usign validation rescaling\n",
    "validation_generator = validation_datagen.flow_from_directory(validation_dir,color_mode='grayscale'\n",
    "                                                              ,target_size=(img_rows,img_cols),\n",
    "                                                              batch_size=batch_size,\n",
    "                                                              class_mode='categorical',\n",
    "                                                              shuffle=True)"
   ]
  },
  {
   "cell_type": "code",
   "execution_count": 44,
   "metadata": {},
   "outputs": [],
   "source": [
    "# making  a model\n",
    "model = Sequential()"
   ]
  },
  {
   "cell_type": "code",
   "execution_count": 45,
   "metadata": {},
   "outputs": [],
   "source": [
    "#first block\n",
    "model.add(Conv2D(32,(3,3),padding='same',kernel_initializer='he_normal',input_shape=(img_rows,img_cols,1)))\n",
    "model.add(Activation('elu'))\n",
    "model.add(BatchNormalization())\n",
    "model.add(Conv2D(32,(3,3),padding='same',kernel_initializer='he_normal',input_shape=(img_rows,img_cols,1)))\n",
    "model.add(Activation('elu'))\n",
    "model.add(BatchNormalization())\n",
    "model.add(MaxPooling2D(pool_size=(2,2)))\n",
    "model.add(Dropout(0.2))"
   ]
  },
  {
   "cell_type": "code",
   "execution_count": 46,
   "metadata": {},
   "outputs": [],
   "source": [
    "# Block-2 \n",
    "\n",
    "model.add(Conv2D(64,(3,3),padding='same',kernel_initializer='he_normal'))\n",
    "model.add(Activation('elu'))\n",
    "model.add(BatchNormalization())\n",
    "model.add(Conv2D(64,(3,3),padding='same',kernel_initializer='he_normal'))\n",
    "model.add(Activation('elu'))\n",
    "model.add(BatchNormalization())\n",
    "model.add(MaxPooling2D(pool_size=(2,2)))\n",
    "model.add(Dropout(0.2))"
   ]
  },
  {
   "cell_type": "code",
   "execution_count": 47,
   "metadata": {},
   "outputs": [],
   "source": [
    "# Block 3\n",
    "model.add(Conv2D(128,(3,3),padding='same',kernel_initializer='he_normal'))\n",
    "model.add(Activation('elu'))\n",
    "model.add(BatchNormalization())\n",
    "model.add(Conv2D(128,(3,3),padding='same',kernel_initializer='he_normal'))\n",
    "model.add(Activation('elu'))\n",
    "model.add(BatchNormalization())\n",
    "model.add(MaxPooling2D(pool_size=(2,2)))\n",
    "model.add(Dropout(0.2))"
   ]
  },
  {
   "cell_type": "code",
   "execution_count": 48,
   "metadata": {},
   "outputs": [],
   "source": [
    "# Block-4 \n",
    "\n",
    "model.add(Conv2D(256,(3,3),padding='same',kernel_initializer='he_normal'))\n",
    "model.add(Activation('elu'))\n",
    "model.add(BatchNormalization())\n",
    "model.add(Conv2D(256,(3,3),padding='same',kernel_initializer='he_normal'))\n",
    "model.add(Activation('elu'))\n",
    "model.add(BatchNormalization())\n",
    "model.add(MaxPooling2D(pool_size=(2,2)))\n",
    "model.add(Dropout(0.2))"
   ]
  },
  {
   "cell_type": "code",
   "execution_count": 49,
   "metadata": {},
   "outputs": [],
   "source": [
    "# Block 4\n",
    "model.add(Flatten())\n",
    "model.add(Dense(64,kernel_initializer='he_normal'))\n",
    "model.add(Activation('elu'))\n",
    "model.add(BatchNormalization())\n",
    "model.add(Dropout(0.5))\n",
    "\n",
    "# Block 5\n",
    "\n",
    "model.add(Dense(64,kernel_initializer='he_normal'))\n",
    "model.add(Activation('elu'))\n",
    "model.add(BatchNormalization())\n",
    "model.add(Dropout(0.5))\n"
   ]
  },
  {
   "cell_type": "code",
   "execution_count": 50,
   "metadata": {},
   "outputs": [
    {
     "name": "stdout",
     "output_type": "stream",
     "text": [
      "Model: \"sequential_3\"\n",
      "_________________________________________________________________\n",
      "Layer (type)                 Output Shape              Param #   \n",
      "=================================================================\n",
      "conv2d_17 (Conv2D)           (None, 48, 48, 32)        320       \n",
      "_________________________________________________________________\n",
      "activation_23 (Activation)   (None, 48, 48, 32)        0         \n",
      "_________________________________________________________________\n",
      "batch_normalization_21 (Batc (None, 48, 48, 32)        128       \n",
      "_________________________________________________________________\n",
      "conv2d_18 (Conv2D)           (None, 48, 48, 32)        9248      \n",
      "_________________________________________________________________\n",
      "activation_24 (Activation)   (None, 48, 48, 32)        0         \n",
      "_________________________________________________________________\n",
      "batch_normalization_22 (Batc (None, 48, 48, 32)        128       \n",
      "_________________________________________________________________\n",
      "max_pooling2d_9 (MaxPooling2 (None, 24, 24, 32)        0         \n",
      "_________________________________________________________________\n",
      "dropout_13 (Dropout)         (None, 24, 24, 32)        0         \n",
      "_________________________________________________________________\n",
      "conv2d_19 (Conv2D)           (None, 24, 24, 64)        18496     \n",
      "_________________________________________________________________\n",
      "activation_25 (Activation)   (None, 24, 24, 64)        0         \n",
      "_________________________________________________________________\n",
      "batch_normalization_23 (Batc (None, 24, 24, 64)        256       \n",
      "_________________________________________________________________\n",
      "conv2d_20 (Conv2D)           (None, 24, 24, 64)        36928     \n",
      "_________________________________________________________________\n",
      "activation_26 (Activation)   (None, 24, 24, 64)        0         \n",
      "_________________________________________________________________\n",
      "batch_normalization_24 (Batc (None, 24, 24, 64)        256       \n",
      "_________________________________________________________________\n",
      "max_pooling2d_10 (MaxPooling (None, 12, 12, 64)        0         \n",
      "_________________________________________________________________\n",
      "dropout_14 (Dropout)         (None, 12, 12, 64)        0         \n",
      "_________________________________________________________________\n",
      "conv2d_21 (Conv2D)           (None, 12, 12, 128)       73856     \n",
      "_________________________________________________________________\n",
      "activation_27 (Activation)   (None, 12, 12, 128)       0         \n",
      "_________________________________________________________________\n",
      "batch_normalization_25 (Batc (None, 12, 12, 128)       512       \n",
      "_________________________________________________________________\n",
      "conv2d_22 (Conv2D)           (None, 12, 12, 128)       147584    \n",
      "_________________________________________________________________\n",
      "activation_28 (Activation)   (None, 12, 12, 128)       0         \n",
      "_________________________________________________________________\n",
      "batch_normalization_26 (Batc (None, 12, 12, 128)       512       \n",
      "_________________________________________________________________\n",
      "max_pooling2d_11 (MaxPooling (None, 6, 6, 128)         0         \n",
      "_________________________________________________________________\n",
      "dropout_15 (Dropout)         (None, 6, 6, 128)         0         \n",
      "_________________________________________________________________\n",
      "conv2d_23 (Conv2D)           (None, 6, 6, 256)         295168    \n",
      "_________________________________________________________________\n",
      "activation_29 (Activation)   (None, 6, 6, 256)         0         \n",
      "_________________________________________________________________\n",
      "batch_normalization_27 (Batc (None, 6, 6, 256)         1024      \n",
      "_________________________________________________________________\n",
      "conv2d_24 (Conv2D)           (None, 6, 6, 256)         590080    \n",
      "_________________________________________________________________\n",
      "activation_30 (Activation)   (None, 6, 6, 256)         0         \n",
      "_________________________________________________________________\n",
      "batch_normalization_28 (Batc (None, 6, 6, 256)         1024      \n",
      "_________________________________________________________________\n",
      "max_pooling2d_12 (MaxPooling (None, 3, 3, 256)         0         \n",
      "_________________________________________________________________\n",
      "dropout_16 (Dropout)         (None, 3, 3, 256)         0         \n",
      "_________________________________________________________________\n",
      "flatten_3 (Flatten)          (None, 2304)              0         \n",
      "_________________________________________________________________\n",
      "dense_7 (Dense)              (None, 64)                147520    \n",
      "_________________________________________________________________\n",
      "activation_31 (Activation)   (None, 64)                0         \n",
      "_________________________________________________________________\n",
      "batch_normalization_29 (Batc (None, 64)                256       \n",
      "_________________________________________________________________\n",
      "dropout_17 (Dropout)         (None, 64)                0         \n",
      "_________________________________________________________________\n",
      "dense_8 (Dense)              (None, 64)                4160      \n",
      "_________________________________________________________________\n",
      "activation_32 (Activation)   (None, 64)                0         \n",
      "_________________________________________________________________\n",
      "batch_normalization_30 (Batc (None, 64)                256       \n",
      "_________________________________________________________________\n",
      "dropout_18 (Dropout)         (None, 64)                0         \n",
      "_________________________________________________________________\n",
      "dense_9 (Dense)              (None, 7)                 455       \n",
      "_________________________________________________________________\n",
      "activation_33 (Activation)   (None, 7)                 0         \n",
      "=================================================================\n",
      "Total params: 1,328,167\n",
      "Trainable params: 1,325,991\n",
      "Non-trainable params: 2,176\n",
      "_________________________________________________________________\n",
      "None\n"
     ]
    }
   ],
   "source": [
    "# last Block\n",
    "model.add(Dense(num_classes,kernel_initializer='he_normal'))\n",
    "model.add(Activation('softmax'))\n",
    "# printing model summery\n",
    "print(model.summary())"
   ]
  },
  {
   "cell_type": "code",
   "execution_count": 51,
   "metadata": {},
   "outputs": [],
   "source": [
    "from keras.optimizers import RMSprop,SGD,Adam\n",
    "from keras.callbacks import ModelCheckpoint, EarlyStopping, ReduceLROnPlateau\n",
    "\n",
    "checkpoint = ModelCheckpoint('emotion_predict.h5',\n",
    "                             monitor='val_loss',\n",
    "                             mode='min',\n",
    "                             save_best_only=True,\n",
    "                             verbose=1\n",
    "                                )\n",
    "earlystop = EarlyStopping(monitor='accuracy',\n",
    "                          min_delta=0,\n",
    "                          patience=3,\n",
    "                          verbose=1,\n",
    "                          restore_best_weights=True\n",
    "                          )\n",
    "\n",
    "reduce_lr = ReduceLROnPlateau(monitor='val_loss',\n",
    "                              factor=0.2,\n",
    "                              patience=3,\n",
    "                              verbose=1,\n",
    "                              min_delta=0.0001)\n",
    "\n"
   ]
  },
  {
   "cell_type": "code",
   "execution_count": 52,
   "metadata": {},
   "outputs": [],
   "source": [
    "\n",
    "# compiling the model\n",
    "model.compile(loss='categorical_crossentropy',\n",
    "              optimizer = Adam(lr=0.001),\n",
    "              metrics=['accuracy'])"
   ]
  },
  {
   "cell_type": "code",
   "execution_count": 53,
   "metadata": {},
   "outputs": [],
   "source": [
    "nb_train_samples = 24176\n",
    "nb_validation_samples = 3006\n",
    "epochs=25 # no. of epoch = 25 "
   ]
  },
  {
   "cell_type": "code",
   "execution_count": 54,
   "metadata": {},
   "outputs": [
    {
     "name": "stdout",
     "output_type": "stream",
     "text": [
      "Epoch 1/25\n",
      "755/755 [==============================] - 2217s 3s/step - loss: 2.2116 - accuracy: 0.2009 - val_loss: 1.8083 - val_accuracy: 0.2470\n",
      "Epoch 2/25\n",
      "755/755 [==============================] - 1911s 3s/step - loss: 1.8457 - accuracy: 0.2356 - val_loss: 1.7451 - val_accuracy: 0.2594\n",
      "Epoch 3/25\n",
      "755/755 [==============================] - 1803s 2s/step - loss: 1.8002 - accuracy: 0.2456 - val_loss: 1.7966 - val_accuracy: 0.2526\n",
      "Epoch 4/25\n",
      "755/755 [==============================] - 1881s 2s/step - loss: 1.7808 - accuracy: 0.2627 - val_loss: 1.6126 - val_accuracy: 0.2896\n",
      "Epoch 5/25\n",
      "755/755 [==============================] - 1839s 2s/step - loss: 1.7442 - accuracy: 0.2868 - val_loss: 1.7691 - val_accuracy: 0.3106\n",
      "Epoch 6/25\n",
      "755/755 [==============================] - 1911s 3s/step - loss: 1.7006 - accuracy: 0.3056 - val_loss: 1.6996 - val_accuracy: 0.3572\n",
      "Epoch 7/25\n",
      "755/755 [==============================] - 1801s 2s/step - loss: 1.6343 - accuracy: 0.3473 - val_loss: 1.4429 - val_accuracy: 0.3893\n",
      "Epoch 8/25\n",
      "755/755 [==============================] - 2120s 3s/step - loss: 1.5642 - accuracy: 0.3902 - val_loss: 1.4005 - val_accuracy: 0.4147\n",
      "Epoch 9/25\n",
      "755/755 [==============================] - 2252s 3s/step - loss: 1.5065 - accuracy: 0.4166 - val_loss: 1.6482 - val_accuracy: 0.4300\n",
      "Epoch 10/25\n",
      "755/755 [==============================] - 2173s 3s/step - loss: 1.4653 - accuracy: 0.4362 - val_loss: 1.2695 - val_accuracy: 0.4730\n",
      "Epoch 11/25\n",
      "755/755 [==============================] - 1880s 2s/step - loss: 1.4409 - accuracy: 0.4468 - val_loss: 1.3515 - val_accuracy: 0.4534\n",
      "Epoch 12/25\n",
      "755/755 [==============================] - 1775s 2s/step - loss: 1.4184 - accuracy: 0.4581 - val_loss: 1.3807 - val_accuracy: 0.4694\n",
      "Epoch 13/25\n",
      "755/755 [==============================] - 1772s 2s/step - loss: 1.4008 - accuracy: 0.4668 - val_loss: 1.7101 - val_accuracy: 0.4859\n",
      "Epoch 14/25\n",
      "755/755 [==============================] - 1774s 2s/step - loss: 1.3870 - accuracy: 0.4705 - val_loss: 1.7823 - val_accuracy: 0.4646\n",
      "Epoch 15/25\n",
      "755/755 [==============================] - 1772s 2s/step - loss: 1.3732 - accuracy: 0.4753 - val_loss: 1.3571 - val_accuracy: 0.4693\n",
      "Epoch 16/25\n",
      "755/755 [==============================] - 1775s 2s/step - loss: 1.3676 - accuracy: 0.4734 - val_loss: 0.9010 - val_accuracy: 0.4744\n",
      "Epoch 17/25\n",
      "755/755 [==============================] - 1774s 2s/step - loss: 1.3458 - accuracy: 0.4864 - val_loss: 1.4102 - val_accuracy: 0.4869\n",
      "Epoch 18/25\n",
      "755/755 [==============================] - 1772s 2s/step - loss: 1.3425 - accuracy: 0.4908 - val_loss: 1.1549 - val_accuracy: 0.5127\n",
      "Epoch 19/25\n",
      "755/755 [==============================] - 1773s 2s/step - loss: 1.3358 - accuracy: 0.4963 - val_loss: 1.1498 - val_accuracy: 0.4795\n",
      "Epoch 20/25\n",
      "755/755 [==============================] - 1774s 2s/step - loss: 1.3221 - accuracy: 0.5015 - val_loss: 1.3197 - val_accuracy: 0.5100\n",
      "Epoch 21/25\n",
      "755/755 [==============================] - 1776s 2s/step - loss: 1.3117 - accuracy: 0.5072 - val_loss: 1.4990 - val_accuracy: 0.5273\n",
      "Epoch 22/25\n",
      "755/755 [==============================] - 1773s 2s/step - loss: 1.3051 - accuracy: 0.5079 - val_loss: 1.0374 - val_accuracy: 0.5192\n",
      "Epoch 23/25\n",
      "755/755 [==============================] - 1772s 2s/step - loss: 1.2934 - accuracy: 0.5153 - val_loss: 1.1731 - val_accuracy: 0.4956\n",
      "Epoch 24/25\n",
      "755/755 [==============================] - 1775s 2s/step - loss: 1.2906 - accuracy: 0.5127 - val_loss: 1.3221 - val_accuracy: 0.5185\n",
      "Epoch 25/25\n",
      "755/755 [==============================] - 1774s 2s/step - loss: 1.2913 - accuracy: 0.5180 - val_loss: 1.3002 - val_accuracy: 0.5276\n"
     ]
    }
   ],
   "source": [
    "# fitting the model\n",
    "history=model.fit_generator(\n",
    "                train_generator,\n",
    "                steps_per_epoch=nb_train_samples//batch_size,\n",
    "                epochs=epochs,\n",
    "                validation_data=validation_generator,\n",
    "                validation_steps=nb_validation_samples//batch_size)\n"
   ]
  },
  {
   "cell_type": "code",
   "execution_count": null,
   "metadata": {},
   "outputs": [],
   "source": []
  },
  {
   "cell_type": "code",
   "execution_count": 64,
   "metadata": {},
   "outputs": [],
   "source": [
    "model.save(\"mooosa.h5\")"
   ]
  },
  {
   "cell_type": "code",
   "execution_count": 57,
   "metadata": {},
   "outputs": [
    {
     "ename": "NameError",
     "evalue": "name 'loaded_model' is not defined",
     "output_type": "error",
     "traceback": [
      "\u001b[1;31m---------------------------------------------------------------------------\u001b[0m",
      "\u001b[1;31mNameError\u001b[0m                                 Traceback (most recent call last)",
      "\u001b[1;32m<ipython-input-57-ca4404dfa3b3>\u001b[0m in \u001b[0;36m<module>\u001b[1;34m()\u001b[0m\n\u001b[0;32m      1\u001b[0m \u001b[1;31m# load weights into new model\u001b[0m\u001b[1;33m\u001b[0m\u001b[1;33m\u001b[0m\u001b[0m\n\u001b[1;32m----> 2\u001b[1;33m \u001b[0mloaded_model\u001b[0m\u001b[1;33m.\u001b[0m\u001b[0mload_weights\u001b[0m\u001b[1;33m(\u001b[0m\u001b[1;34m\"model.h5\"\u001b[0m\u001b[1;33m)\u001b[0m\u001b[1;33m\u001b[0m\u001b[0m\n\u001b[0m\u001b[0;32m      3\u001b[0m \u001b[0mprint\u001b[0m\u001b[1;33m(\u001b[0m\u001b[1;34m\"Loaded model from disk\"\u001b[0m\u001b[1;33m)\u001b[0m\u001b[1;33m\u001b[0m\u001b[0m\n\u001b[0;32m      4\u001b[0m \u001b[1;33m\u001b[0m\u001b[0m\n",
      "\u001b[1;31mNameError\u001b[0m: name 'loaded_model' is not defined"
     ]
    }
   ],
   "source": []
  },
  {
   "cell_type": "code",
   "execution_count": null,
   "metadata": {},
   "outputs": [],
   "source": []
  }
 ],
 "metadata": {
  "kernelspec": {
   "display_name": "Python 3",
   "language": "python",
   "name": "python3"
  },
  "language_info": {
   "codemirror_mode": {
    "name": "ipython",
    "version": 3
   },
   "file_extension": ".py",
   "mimetype": "text/x-python",
   "name": "python",
   "nbconvert_exporter": "python",
   "pygments_lexer": "ipython3",
   "version": "3.6.5"
  }
 },
 "nbformat": 4,
 "nbformat_minor": 2
}
